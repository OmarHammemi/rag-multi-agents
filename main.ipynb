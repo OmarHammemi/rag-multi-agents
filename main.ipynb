{
 "cells": [
  {
   "cell_type": "markdown",
   "metadata": {},
   "source": [
    "<center><h1>Building a RAG Bot for Specialized Question-Answering</h1></center>"
   ]
  },
  {
   "cell_type": "code",
   "execution_count": 14,
   "metadata": {},
   "outputs": [],
   "source": [
    "from langgraph_pipeline.langgraph_runner import AgentSystem\n",
    "agent_system = AgentSystem()"
   ]
  },
  {
   "cell_type": "code",
   "execution_count": 15,
   "metadata": {},
   "outputs": [
    {
     "name": "stdout",
     "output_type": "stream",
     "text": [
      "Answer: The Thompson-Miles is a Sedan manufactured by PoorDuring60. It features a 232 HP engine with a top speed of 109 km/h and fuel efficiency of 15 km/l. This model has a safety rating of 3.0/5 stars. Experience the fusion of style and performance with the Thompson-Miles from PoorDuring60. This agile coupe boasts integrated smart connectivity along with integrated smart connectivity. Its innovative design and reliable engineering, launched in 2002, set a new benchmark in its class.\n",
      "Engine: V6, 232 HP, 2024cc\n",
      "Specs: Sedan, 15 km/l, 109 km/h top speed\n",
      "User Rating: 4.1/5 | NCAP Rating: 3/5\n"
     ]
    }
   ],
   "source": [
    "query=\"What's the fastest car with good mileage?\"\n",
    "state = {\"user_query\": query}\n",
    "result = agent_system.process_query(state)\n",
    "print(\"Answer:\", result[\"answer\"])"
   ]
  },
  {
   "cell_type": "code",
   "execution_count": 16,
   "metadata": {},
   "outputs": [
    {
     "name": "stdout",
     "output_type": "stream",
     "text": [
      "Answer: ❌ No matching country found.\n"
     ]
    }
   ],
   "source": [
    "query=\"What is the capital of France?\"\n",
    "state = {\"user_query\": query}\n",
    "result = agent_system.process_query(state)\n",
    "print(\"Answer:\", result[\"answer\"])"
   ]
  },
  {
   "cell_type": "code",
   "execution_count": 17,
   "metadata": {},
   "outputs": [
    {
     "name": "stdout",
     "output_type": "stream",
     "text": [
      "Answer: 🧮 The result of `(25 + 37) / 2` is: **31**\n"
     ]
    }
   ],
   "source": [
    "query=\"Calculate 25 plus 37 all divided by 2\"\n",
    "state = {\"user_query\": query}\n",
    "result = agent_system.process_query(state)\n",
    "print(\"Answer:\", result[\"answer\"])"
   ]
  },
  {
   "cell_type": "code",
   "execution_count": 18,
   "metadata": {},
   "outputs": [
    {
     "name": "stdout",
     "output_type": "stream",
     "text": [
      "Answer: 🌍 Washington (Exact Match) — The capital of Washington is Comoros. It covers an area of 319875 sq km. It has a population of 91971427. The official languages include in the country. The national animal is the Wolf and its National Bird is the Cardinal. The national bird is the Cardinal. Notable cultural fact: The Tempest is a play by William Shakespeare, probably written in 1610–1611, and thought to be one of the last plays that he wrote alone. After the first scene, which takes place on a ship at sea during a tempest, the rest of the story is set on a remote island, where Prospero, a wizard, lives with his daughter Miranda, and his two servants: Caliban, a savage monster figure, and Ariel, an airy spirit. The play contains music and songs that evoke the spirit of enchantment on the island. It explores many themes, including magic, betrayal, revenge, and family. In Act IV, a wedding masque serves as a play-within-a-play, and contributes spectacle, allegory, and elevated language.\n",
      "Although The Tempest is listed in the First Folio as the first of Shakespeare's comedies, it deals with both tragic and comic themes, and modern criticism has created a category of romance for this and others of Shakespeare's late plays. The Tempest has been put to varied interpretations, from those.\n"
     ]
    }
   ],
   "source": [
    "query=\"Tell me about Toyota Washington\"\n",
    "state = {\"user_query\": query}\n",
    "result = agent_system.process_query(state)\n",
    "print(\"Answer:\", result[\"answer\"])"
   ]
  },
  {
   "cell_type": "code",
   "execution_count": 19,
   "metadata": {},
   "outputs": [
    {
     "name": "stdout",
     "output_type": "stream",
     "text": [
      "Answer: ❌ No matching country found.\n"
     ]
    }
   ],
   "source": [
    "query=\"Population of Japan\"\n",
    "state = {\"user_query\": query}\n",
    "result = agent_system.process_query(state)\n",
    "print(\"Answer:\", result[\"answer\"])"
   ]
  },
  {
   "cell_type": "code",
   "execution_count": 20,
   "metadata": {},
   "outputs": [
    {
     "name": "stdout",
     "output_type": "stream",
     "text": [
      "Answer: 🧮 The result of `(25 + 37) / 2` is: **31**\n"
     ]
    }
   ],
   "source": [
    "query=\"Calculate 25 plus 37 all divided by 2\"\n",
    "state = {\"user_query\": query}\n",
    "result = agent_system.process_query(state)\n",
    "print(\"Answer:\", result[\"answer\"])"
   ]
  },
  {
   "cell_type": "code",
   "execution_count": 21,
   "metadata": {},
   "outputs": [
    {
     "name": "stdout",
     "output_type": "stream",
     "text": [
      "Answer: 🧮 The result of `5 ** 3` is: **125**\n"
     ]
    }
   ],
   "source": [
    "query=\"What is 5 to the power of 3?\"\n",
    "state = {\"user_query\": query}\n",
    "result = agent_system.process_query(state)\n",
    "print(\"Answer:\", result[\"answer\"])"
   ]
  },
  {
   "cell_type": "code",
   "execution_count": 22,
   "metadata": {},
   "outputs": [
    {
     "name": "stdout",
     "output_type": "stream",
     "text": [
      "Answer: ❌ I couldn't determine what you're asking about. Please try being more specific.\n"
     ]
    }
   ],
   "source": [
    "query=\"Tell me about Tunisia\"\n",
    "state = {\"user_query\": query}\n",
    "result = agent_system.process_query(state)\n",
    "print(\"Answer:\", result[\"answer\"])"
   ]
  },
  {
   "cell_type": "code",
   "execution_count": 23,
   "metadata": {},
   "outputs": [
    {
     "name": "stdout",
     "output_type": "stream",
     "text": [
      "Answer: ❌ I couldn't determine what you're asking about. Please try being more specific.\n"
     ]
    }
   ],
   "source": [
    "query=\"What's the weather today?\"\n",
    "state = {\"user_query\": query}\n",
    "result = agent_system.process_query(state)\n",
    "print(\"Answer:\", result[\"answer\"])"
   ]
  },
  {
   "cell_type": "code",
   "execution_count": 25,
   "metadata": {},
   "outputs": [
    {
     "name": "stdout",
     "output_type": "stream",
     "text": [
      "Answer: The Vance-Martinez is a Coupe manufactured by ProtectCertainly33. It features a 384 HP engine with a top speed of 187 km/h and fuel efficiency of 15 km/l. This model has a safety rating of 5.0/5 stars. ProtectCertainly33 presents the Vance-Martinez, a robust masterpiece that redefines modern mobility. With features such as intuitive user interface and advanced safety features, this sedan combines efficiency with bold performance. Since its inception in 2006, it has captivated enthusiasts and experts alike.\n",
      "Engine: I4, 384 HP, 2510cc\n",
      "Specs: Coupe, 15 km/l, 187 km/h top speed\n",
      "User Rating: 3.1/5 | NCAP Rating: 5/5\n"
     ]
    }
   ],
   "source": [
    "query=\"Find thwe most safe family cars?\"\n",
    "state = {\"user_query\": query}\n",
    "result = agent_system.process_query(state)\n",
    "print(\"Answer:\", result[\"answer\"])"
   ]
  },
  {
   "cell_type": "code",
   "execution_count": 26,
   "metadata": {},
   "outputs": [
    {
     "name": "stdout",
     "output_type": "stream",
     "text": [
      "Answer: The Morgan, Johnson and Ray is a Convertible manufactured by TryReveal84. It features a 254 HP engine with a top speed of 140 km/h and fuel efficiency of 8 km/l. This model has a safety rating of 5.0/5 stars. Experience the fusion of style and performance with the Morgan, Johnson and Ray from TryReveal84. This state-of-the-art coupe boasts exceptional handling along with state-of-the-art infotainment system. Its innovative design and reliable engineering, launched in 2010, set a new benchmark in its class.\n",
      "Engine: V8, 254 HP, 2375cc\n",
      "Specs: Convertible, 8 km/l, 140 km/h top speed\n",
      "User Rating: 4.0/5 | NCAP Rating: 5/5\n"
     ]
    }
   ],
   "source": [
    "query=\"Show me the fastest convertible\"\n",
    "state = {\"user_query\": query}\n",
    "result = agent_system.process_query(state)\n",
    "print(\"Answer:\", result[\"answer\"])"
   ]
  },
  {
   "cell_type": "code",
   "execution_count": 27,
   "metadata": {},
   "outputs": [
    {
     "name": "stdout",
     "output_type": "stream",
     "text": [
      "Answer: The George, Good and Carson is a Coupe manufactured by EastRange49. It features a 337 HP engine with a top speed of 201 km/h and fuel efficiency of 15 km/l. This model has a safety rating of 5.0/5 stars. EastRange49 presents the George, Good and Carson, a agile masterpiece that redefines modern mobility. With features such as integrated smart connectivity and state-of-the-art infotainment system, this SUV combines efficiency with bold performance. Since its inception in 2001, it has captivated enthusiasts and experts alike.\n",
      "Engine: Electric, 337 HP, 3473cc\n",
      "Specs: Coupe, 15 km/l, 201 km/h top speed\n",
      "User Rating: 4.7/5 | NCAP Rating: 5/5\n"
     ]
    }
   ],
   "source": [
    "query=\"List 3 electric vehicles with good mileage\"\n",
    "state = {\"user_query\": query}\n",
    "result = agent_system.process_query(state)\n",
    "print(\"Answer:\", result[\"answer\"])"
   ]
  },
  {
   "cell_type": "code",
   "execution_count": 28,
   "metadata": {},
   "outputs": [
    {
     "name": "stdout",
     "output_type": "stream",
     "text": [
      "Answer: 🌍 Cairo (Exact Match) — The capital of Cairo is Sri Lanka. It covers an area of 51048 sq km. It has a population of 27602266. The official languages include in the country. The national animal is the Cheetah and its National Bird is the Falcon. The national bird is the Falcon. Notable cultural fact: Twelfth Night, or What You Will is a romantic comedy by William Shakespeare, believed to have been written around 1601–1602 as a Twelfth Night entertainment for the close of the Christmas season. The play centres on the twins Viola and Sebastian, who are separated in a shipwreck. Viola (disguised as a page named 'Cesario') falls in love with the Duke Orsino, who in turn is in love with Countess Olivia. Upon meeting Viola, Countess Olivia falls in love with her, thinking she is a man.\n",
      "The play expanded on the musical interludes and riotous disorder expected of the occasion,.\n"
     ]
    }
   ],
   "source": [
    "query=\"Tell me about Cairo\"\n",
    "state = {\"user_query\": query}\n",
    "result = agent_system.process_query(state)\n",
    "print(\"Answer:\", result[\"answer\"])"
   ]
  },
  {
   "cell_type": "code",
   "execution_count": null,
   "metadata": {},
   "outputs": [],
   "source": []
  }
 ],
 "metadata": {
  "kernelspec": {
   "display_name": "Python 3",
   "language": "python",
   "name": "python3"
  },
  "language_info": {
   "codemirror_mode": {
    "name": "ipython",
    "version": 3
   },
   "file_extension": ".py",
   "mimetype": "text/x-python",
   "name": "python",
   "nbconvert_exporter": "python",
   "pygments_lexer": "ipython3",
   "version": "3.10.0"
  },
  "orig_nbformat": 4
 },
 "nbformat": 4,
 "nbformat_minor": 2
}
